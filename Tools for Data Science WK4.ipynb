{
    "cells": [
        {
            "cell_type": "markdown",
            "metadata": {
                "collapsed": true
            },
            "source": "# My Jupyter Notebook on IBM Watson Studio"
        },
        {
            "cell_type": "markdown",
            "metadata": {},
            "source": "__Nicole__\nResearcher"
        },
        {
            "cell_type": "markdown",
            "metadata": {},
            "source": "*\"I'm interested in pursuing a career in Data Science, particularly within the field of public health, because I would like to be doing work where I can extract meaningful insights from complex data to better understand a wide variety of public health challenges.\"*"
        },
        {
            "cell_type": "markdown",
            "metadata": {},
            "source": "### The following code calculates the number of hours in a year"
        },
        {
            "cell_type": "markdown",
            "metadata": {},
            "source": "<a id=\"code\"></a>"
        },
        {
            "cell_type": "code",
            "execution_count": 9,
            "metadata": {
                "scrolled": true
            },
            "outputs": [
                {
                    "name": "stdout",
                    "output_type": "stream",
                    "text": "Number of hours in a year: 8760 hrs\n"
                }
            ],
            "source": "hours_year = 365*24\nprint(\"Number of hours in a year:\", hours_year, \"hrs\")"
        },
        {
            "cell_type": "markdown",
            "metadata": {},
            "source": "#### This Jupyter Notebook Covered the Following Topics\n***\n1. Header styling\n2. Bold & italic characters\n3. Writing code (as seen in [line 6](#code))"
        }
    ],
    "metadata": {
        "kernelspec": {
            "display_name": "Python 3.9",
            "language": "python",
            "name": "python3"
        },
        "language_info": {
            "codemirror_mode": {
                "name": "ipython",
                "version": 3
            },
            "file_extension": ".py",
            "mimetype": "text/x-python",
            "name": "python",
            "nbconvert_exporter": "python",
            "pygments_lexer": "ipython3",
            "version": "3.9.13"
        }
    },
    "nbformat": 4,
    "nbformat_minor": 1
}